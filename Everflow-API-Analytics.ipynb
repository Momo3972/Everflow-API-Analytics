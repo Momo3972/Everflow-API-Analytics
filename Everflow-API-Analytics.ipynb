{
 "cells": [
  {
   "cell_type": "markdown",
   "id": "46ce3abc",
   "metadata": {},
   "source": [
    "# Projet : Everflow API Analytics"
   ]
  },
  {
   "cell_type": "markdown",
   "id": "21223985",
   "metadata": {},
   "source": [
    "## 🧠 Introduction\n",
    "\n",
    "### 🎯 Rôle\n",
    "Ce projet a été conçu et réalisé par **Mohamed Lamine OULD BOUYA** dans le cadre d'un projet personnel pour mon **portfolio GitHub** \n",
    "\n",
    "Mon rôle : **développeur data / intégrateur API** - de la conception du client Python Everflow à la visualisation graphique des performances\n",
    "\n",
    "### ⚙️ Objectif principal\n",
    "Créer un outil **simple, automatisé et réutilisable** permettant de :\n",
    "1. **Se connecter à l’API Everflow** à l’aide d’une clé d’API sécurisée.\n",
    "2. **Extraire des statistiques agrégées** (revenus, payouts, conversions, clics) sur une **plage de dates donnée**.\n",
    "3. **Calculer les profits** directement côté client (`profit = revenue − payout`).\n",
    "4. **Visualiser les performances** avec des **graphiques automatiques** :\n",
    "   - Profit par **offre (offer)**\n",
    "   - Profit par **affilié (affiliate)**\n",
    "   - Profit par **annonceur (advertiser)**\n",
    "5. **Exporter les résultats** sous forme de graphiques PNG et d’un **rapport Markdown**.\n",
    "\n",
    "### 📊 Points clés du projet\n",
    "- Authentification via en-tête `X-Eflow-API-Key` (stocké dans `.env`)\n",
    "- Endpoint principal : `POST /v1/networks/reporting/entity/table`\n",
    "- Agrégation dynamique avec colonnes personnalisables (`offer`, `affiliate`, etc.)\n",
    "- Traitement et calculs via **pandas**\n",
    "- Visualisations claires générées avec **matplotlib**\n",
    "- Mode **mock** inclus pour tester sans clé API\n",
    "\n",
    "> 💡 Ce notebook démontre la capacité à interagir avec une API professionnelle, à manipuler des données analytiques et à produire des visualisations exploitables — des compétences essentielles en data engineering et en analyse marketing. \n"
   ]
  },
  {
   "cell_type": "markdown",
   "id": "4f2fd2e1",
   "metadata": {},
   "source": [
    "## ⚠️ Limites connues et pistes d’amélioration\n",
    "\n",
    "### 🚧 Limites techniques actuelles\n",
    "1. **Plage temporelle limitée**  \n",
    "   L’endpoint `entity/table` d’Everflow n’autorise qu’une **fenêtre maximale d’un an** par requête.  \n",
    "   → Solution : découper automatiquement les requêtes par période (mois / trimestre) et agréger côté client.\n",
    "\n",
    "2. **Résultats partiels au-delà de 10 000 lignes**  \n",
    "   L’API retourne au maximum **10 000 lignes** par appel (`incomplete_results = true`).  \n",
    "   → Solution : implémenter une pagination ou filtrer par offre/affilié pour réduire le volume.\n",
    "\n",
    "3. **Pas de filtrage avancé pour l’instant**  \n",
    "   Le script ne gère pas encore les **filtres dynamiques** (pays, device, source, etc.).  \n",
    "   → Amélioration possible : ajouter des paramètres “filters” et “exclusions” dans la fonction API.\n",
    "\n",
    "4. **Visualisation statique**  \n",
    "   Les graphiques sont générés sous forme d’images statiques PNG.  \n",
    "   → Évolution : créer un **dashboard interactif** avec **Plotly Dash** ou **Streamlit**.\n",
    "\n",
    "5. **Pas de monitoring en continu**  \n",
    "   Le notebook exécute des rapports ponctuels.  \n",
    "   → Amélioration : automatiser via un **cron job** ou une **intégration CI/CD** (GitHub Actions) pour générer des rapports journaliers.\n",
    "\n",
    "### 🚀 Pistes d’amélioration à venir\n",
    "- Intégration d’un **frontend web** pour visualiser les performances en temps réel.  \n",
    "- Support de nouveaux endpoints Everflow (clics, conversions, geo breakdowns).  \n",
    "- Exportation automatique vers **Google Sheets**, **Power BI** ou **Tableau**.  \n",
    "- Ajout d’une API interne Flask/FastAPI pour exposer les agrégats calculés.  \n",
    "- Utilisation d’un **cache local** (SQLite ou Redis) pour accélérer les traitements.\n",
    "\n",
    "> Ces améliorations rendraient le projet plus complet, proche d’un **mini-dashboard analytique professionnel**, tout en restant open-source et pédagogique."
   ]
  },
  {
   "cell_type": "markdown",
   "id": "b81d23a0",
   "metadata": {},
   "source": [
    "## 1-) Dépendances\n",
    "Installe/charge les libs nécessaires. --quiet évite le bruit dans la sortie."
   ]
  },
  {
   "cell_type": "code",
   "execution_count": 1,
   "id": "109c901e",
   "metadata": {},
   "outputs": [
    {
     "name": "stdout",
     "output_type": "stream",
     "text": [
      "Note: you may need to restart the kernel to use updated packages.\n"
     ]
    }
   ],
   "source": [
    "# 1) Dépendances\n",
    "%pip install --quiet python-dotenv requests pandas matplotlib\n",
    "\n",
    "import os, json, textwrap\n",
    "from pathlib import Path\n",
    "import requests\n",
    "import pandas as pd\n",
    "import matplotlib.pyplot as plt\n",
    "from dotenv import load_dotenv\n",
    "\n",
    "# Option d'affichage\n",
    "pd.set_option(\"display.max_columns\", 50)"
   ]
  },
  {
   "cell_type": "markdown",
   "id": "bd8f8735",
   "metadata": {},
   "source": [
    "## 2-) Configuration et paramètres\n",
    "Charge automatiquement .env si présent. On peut soit remplir ta clé dans .env, soit la coller directement dans EFLOW_API_KEY ci-dessous"
   ]
  },
  {
   "cell_type": "code",
   "execution_count": 2,
   "id": "371c0b0f",
   "metadata": {},
   "outputs": [
    {
     "name": "stdout",
     "output_type": "stream",
     "text": [
      "Base URL : https://api.eflow.team\n",
      "Timezone : 67 | Currency: USD\n",
      "Mock mode: True\n"
     ]
    }
   ],
   "source": [
    "# 2) Configuration & paramètres\n",
    "\n",
    "# Charge automatiquement .env s'il existe à la racine du repo\n",
    "load_dotenv(override=False)\n",
    "\n",
    "# <- OPTION A : .env (recommandé, ne jamais commiter la clé)\n",
    "EFLOW_API_KEY = os.getenv(\"EFLOW_API_KEY\", \"\")           # si vide, on utilisera le mode mock\n",
    "EFLOW_BASE_URL = os.getenv(\"EFLOW_BASE_URL\", \"https://api.eflow.team\").rstrip(\"/\")\n",
    "EFLOW_TIMEZONE_ID = int(os.getenv(\"EFLOW_TIMEZONE_ID\", \"67\"))  # 67 ~ Europe/Paris (exemple)\n",
    "EFLOW_CURRENCY_ID = os.getenv(\"EFLOW_CURRENCY_ID\", \"USD\")\n",
    "\n",
    "# <- OPTION B : définir ici (décommenter et remplir)\n",
    "# EFLOW_API_KEY = \"PASTE_YOUR_KEY_HERE\"\n",
    "\n",
    "# Paramètres de la démo (modifiable à la volée)\n",
    "FROM_DATE = \"2025-03-15\"\n",
    "TO_DATE   = \"2025-03-31\"\n",
    "OUT_DIR   = \"out\"  # les images & le rapport seront exportés ici\n",
    "\n",
    "# Mode mock : True => n'appelle pas l'API, utilise des données factices intégrées\n",
    "USE_MOCK = (EFLOW_API_KEY == \"\")\n",
    "\n",
    "Path(OUT_DIR).mkdir(parents=True, exist_ok=True)\n",
    "\n",
    "print(\"Base URL :\", EFLOW_BASE_URL)\n",
    "print(\"Timezone :\", EFLOW_TIMEZONE_ID, \"| Currency:\", EFLOW_CURRENCY_ID)\n",
    "print(\"Mock mode:\", USE_MOCK)"
   ]
  },
  {
   "cell_type": "markdown",
   "id": "8eab6107",
   "metadata": {},
   "source": [
    "## 3-) Données factices\n",
    "Pour les tests hors-API, on garde un petit échantillon réaliste conforme à la structure du “table” endpoint (colonnes + métriques)"
   ]
  },
  {
   "cell_type": "code",
   "execution_count": 3,
   "id": "e32bb8ac",
   "metadata": {},
   "outputs": [
    {
     "data": {
      "text/plain": [
       "3"
      ]
     },
     "execution_count": 3,
     "metadata": {},
     "output_type": "execute_result"
    }
   ],
   "source": [
    "# 3) Données factices (mock) — structure proche de /reporting/entity/table\n",
    "MOCK_ROWS = [\n",
    "    {\n",
    "        \"columns\": {\"offer\": {\"id\": 101, \"name\": \"Offer A\"}, \"affiliate\": {\"id\": 11, \"name\": \"Aff One\"}, \"advertiser\": {\"id\": 5, \"name\": \"Adv One\"}},\n",
    "        \"metrics\": {\"revenue\": 1234.5, \"payout\": 800.0, \"cv\": 100, \"total_click\": 2000}\n",
    "    },\n",
    "    {\n",
    "        \"columns\": {\"offer\": {\"id\": 102, \"name\": \"Offer B\"}, \"affiliate\": {\"id\": 12, \"name\": \"Aff Two\"}, \"advertiser\": {\"id\": 6, \"name\": \"Adv Two\"}},\n",
    "        \"metrics\": {\"revenue\": 900.0, \"payout\": 400.0, \"cv\": 80, \"total_click\": 1500}\n",
    "    },\n",
    "    {\n",
    "        \"columns\": {\"offer\": {\"id\": 103, \"name\": \"Offer C\"}, \"affiliate\": {\"id\": 11, \"name\": \"Aff One\"}, \"advertiser\": {\"id\": 7, \"name\": \"Adv Three\"}},\n",
    "        \"metrics\": {\"revenue\": 600.0, \"payout\": 450.0, \"cv\": 40, \"total_click\": 800}\n",
    "    }\n",
    "]\n",
    "len(MOCK_ROWS)"
   ]
  },
  {
   "cell_type": "markdown",
   "id": "7904f017",
   "metadata": {},
   "source": [
    "## 4-) Client Everflow minimal\n",
    "Fonction fetch_aggregated_table qui appelle POST /v1/networks/reporting/entity/table.\n",
    "Paramètres clés :\n",
    "- from, to, timezone_id, currency_id\n",
    "- columns (ex. [\"offer\", \"affiliate\"])\n",
    "La fonction retourne la liste des lignes.\""
   ]
  },
  {
   "cell_type": "code",
   "execution_count": 4,
   "id": "087ca1b4",
   "metadata": {},
   "outputs": [],
   "source": [
    "# 4) Client Everflow minimal\n",
    "\n",
    "HEADERS = {\"X-Eflow-API-Key\": EFLOW_API_KEY, \"Content-Type\": \"application/json\"}\n",
    "\n",
    "def fetch_aggregated_table(from_date: str,\n",
    "                           to_date: str,\n",
    "                           columns: list[str],\n",
    "                           timezone_id: int,\n",
    "                           currency_id: str) -> list[dict]:\n",
    "    \"\"\"\n",
    "    Appel l'endpoint d'agrégats 'table' et renvoie la liste de lignes (rows).\n",
    "    Lève une exception si l'API retourne un code != 200.\n",
    "    \"\"\"\n",
    "    url = f\"{EFLOW_BASE_URL}/v1/networks/reporting/entity/table\"\n",
    "    payload = {\n",
    "        \"from\": from_date,\n",
    "        \"to\": to_date,\n",
    "        \"timezone_id\": timezone_id,\n",
    "        \"currency_id\": currency_id,\n",
    "        \"columns\": [{\"column\": c} for c in columns],\n",
    "        \"query\": {}\n",
    "    }\n",
    "    resp = requests.post(url, headers=HEADERS, json=payload, timeout=60)\n",
    "    if resp.status_code != 200:\n",
    "        raise RuntimeError(f\"HTTP {resp.status_code}: {resp.text}\")\n",
    "    data = resp.json()\n",
    "\n",
    "    # Selon les versions, la clé peut s'appeler \"rows\" (classique) ; on prévoit des fallbacks.\n",
    "    rows = data.get(\"rows\") or data.get(\"data\") or data.get(\"result\") or []\n",
    "    if data.get(\"incomplete_results\"):\n",
    "        print(\"⚠️ Résultats incomplets: réduis la plage de dates ou les colonnes.\")\n",
    "    return rows"
   ]
  },
  {
   "cell_type": "markdown",
   "id": "a285f76f",
   "metadata": {},
   "source": [
    "## 5-) Extraction des données\n",
    "Si USE_MOCK=True, on saute l’appel réseau. Sinon on interroge l’API."
   ]
  },
  {
   "cell_type": "code",
   "execution_count": 5,
   "id": "32f922d1",
   "metadata": {},
   "outputs": [
    {
     "name": "stdout",
     "output_type": "stream",
     "text": [
      "Lignes récupérées : 3\n"
     ]
    },
    {
     "data": {
      "text/plain": [
       "[{'columns': {'offer': {'id': 101, 'name': 'Offer A'},\n",
       "   'affiliate': {'id': 11, 'name': 'Aff One'},\n",
       "   'advertiser': {'id': 5, 'name': 'Adv One'}},\n",
       "  'metrics': {'revenue': 1234.5,\n",
       "   'payout': 800.0,\n",
       "   'cv': 100,\n",
       "   'total_click': 2000}}]"
      ]
     },
     "execution_count": 5,
     "metadata": {},
     "output_type": "execute_result"
    }
   ],
   "source": [
    "# 5) Extraction des données\n",
    "\n",
    "COLUMNS = [\"offer\", \"affiliate\"]  # inclut l'advertiser dans la réponse quand \"offer\" est demandé (selon la config)\n",
    "\n",
    "if USE_MOCK:\n",
    "    rows = MOCK_ROWS\n",
    "else:\n",
    "    rows = fetch_aggregated_table(\n",
    "        from_date=FROM_DATE,\n",
    "        to_date=TO_DATE,\n",
    "        columns=COLUMNS,\n",
    "        timezone_id=EFLOW_TIMEZONE_ID,\n",
    "        currency_id=EFLOW_CURRENCY_ID\n",
    "    )\n",
    "\n",
    "print(f\"Lignes récupérées : {len(rows)}\")\n",
    "rows[:1]  # aperçu JSON brut d'une ligne"
   ]
  },
  {
   "cell_type": "markdown",
   "id": "d69f5d99",
   "metadata": {},
   "source": [
    "## 6-) Transformation -> DataFrame\n",
    "On aplatit les champs utiles : identifiants / noms et métriques\n",
    "On calcule profit = revenue − payout"
   ]
  },
  {
   "cell_type": "code",
   "execution_count": 6,
   "id": "b8a614a7",
   "metadata": {},
   "outputs": [
    {
     "data": {
      "text/html": [
       "<div>\n",
       "<style scoped>\n",
       "    .dataframe tbody tr th:only-of-type {\n",
       "        vertical-align: middle;\n",
       "    }\n",
       "\n",
       "    .dataframe tbody tr th {\n",
       "        vertical-align: top;\n",
       "    }\n",
       "\n",
       "    .dataframe thead th {\n",
       "        text-align: right;\n",
       "    }\n",
       "</style>\n",
       "<table border=\"1\" class=\"dataframe\">\n",
       "  <thead>\n",
       "    <tr style=\"text-align: right;\">\n",
       "      <th></th>\n",
       "      <th>offer_id</th>\n",
       "      <th>offer_name</th>\n",
       "      <th>affiliate_id</th>\n",
       "      <th>affiliate_name</th>\n",
       "      <th>advertiser_id</th>\n",
       "      <th>advertiser_name</th>\n",
       "      <th>revenue</th>\n",
       "      <th>payout</th>\n",
       "      <th>profit</th>\n",
       "      <th>cv</th>\n",
       "      <th>total_click</th>\n",
       "    </tr>\n",
       "  </thead>\n",
       "  <tbody>\n",
       "    <tr>\n",
       "      <th>0</th>\n",
       "      <td>101</td>\n",
       "      <td>Offer A</td>\n",
       "      <td>11</td>\n",
       "      <td>Aff One</td>\n",
       "      <td>5</td>\n",
       "      <td>Adv One</td>\n",
       "      <td>1234.5</td>\n",
       "      <td>800.0</td>\n",
       "      <td>434.5</td>\n",
       "      <td>100</td>\n",
       "      <td>2000</td>\n",
       "    </tr>\n",
       "    <tr>\n",
       "      <th>1</th>\n",
       "      <td>102</td>\n",
       "      <td>Offer B</td>\n",
       "      <td>12</td>\n",
       "      <td>Aff Two</td>\n",
       "      <td>6</td>\n",
       "      <td>Adv Two</td>\n",
       "      <td>900.0</td>\n",
       "      <td>400.0</td>\n",
       "      <td>500.0</td>\n",
       "      <td>80</td>\n",
       "      <td>1500</td>\n",
       "    </tr>\n",
       "    <tr>\n",
       "      <th>2</th>\n",
       "      <td>103</td>\n",
       "      <td>Offer C</td>\n",
       "      <td>11</td>\n",
       "      <td>Aff One</td>\n",
       "      <td>7</td>\n",
       "      <td>Adv Three</td>\n",
       "      <td>600.0</td>\n",
       "      <td>450.0</td>\n",
       "      <td>150.0</td>\n",
       "      <td>40</td>\n",
       "      <td>800</td>\n",
       "    </tr>\n",
       "  </tbody>\n",
       "</table>\n",
       "</div>"
      ],
      "text/plain": [
       "   offer_id offer_name  affiliate_id affiliate_name  advertiser_id  \\\n",
       "0       101    Offer A            11        Aff One              5   \n",
       "1       102    Offer B            12        Aff Two              6   \n",
       "2       103    Offer C            11        Aff One              7   \n",
       "\n",
       "  advertiser_name  revenue  payout  profit   cv  total_click  \n",
       "0         Adv One   1234.5   800.0   434.5  100         2000  \n",
       "1         Adv Two    900.0   400.0   500.0   80         1500  \n",
       "2       Adv Three    600.0   450.0   150.0   40          800  "
      ]
     },
     "execution_count": 6,
     "metadata": {},
     "output_type": "execute_result"
    }
   ],
   "source": [
    "# 6) Transformation → DataFrame\n",
    "\n",
    "def rows_to_df(rows: list[dict]) -> pd.DataFrame:\n",
    "    records = []\n",
    "    for r in rows:\n",
    "        cols = r.get(\"columns\", {})\n",
    "        met  = r.get(\"metrics\", {})\n",
    "        offer      = cols.get(\"offer\", {})\n",
    "        affiliate  = cols.get(\"affiliate\", {})\n",
    "        advertiser = cols.get(\"advertiser\", {})\n",
    "\n",
    "        revenue = float(met.get(\"revenue\", 0) or 0.0)\n",
    "        payout  = float(met.get(\"payout\", 0) or 0.0)\n",
    "        profit  = revenue - payout\n",
    "\n",
    "        records.append({\n",
    "            \"offer_id\": offer.get(\"id\"),\n",
    "            \"offer_name\": offer.get(\"name\"),\n",
    "            \"affiliate_id\": affiliate.get(\"id\"),\n",
    "            \"affiliate_name\": affiliate.get(\"name\"),\n",
    "            \"advertiser_id\": advertiser.get(\"id\"),\n",
    "            \"advertiser_name\": advertiser.get(\"name\"),\n",
    "            \"revenue\": revenue,\n",
    "            \"payout\": payout,\n",
    "            \"profit\": profit,\n",
    "            \"cv\": met.get(\"cv\", 0),\n",
    "            \"total_click\": met.get(\"total_click\", 0),\n",
    "        })\n",
    "    return pd.DataFrame.from_records(records)\n",
    "\n",
    "df = rows_to_df(rows)\n",
    "df.head()"
   ]
  },
  {
   "cell_type": "markdown",
   "id": "0e60f17c",
   "metadata": {},
   "source": [
    "## 7-) Agrégations utiles\n",
    "Fonctions pour calculer le Top N par profit selon l’axe choisi"
   ]
  },
  {
   "cell_type": "code",
   "execution_count": 7,
   "id": "d758d15b",
   "metadata": {},
   "outputs": [
    {
     "data": {
      "text/html": [
       "<div>\n",
       "<style scoped>\n",
       "    .dataframe tbody tr th:only-of-type {\n",
       "        vertical-align: middle;\n",
       "    }\n",
       "\n",
       "    .dataframe tbody tr th {\n",
       "        vertical-align: top;\n",
       "    }\n",
       "\n",
       "    .dataframe thead th {\n",
       "        text-align: right;\n",
       "    }\n",
       "</style>\n",
       "<table border=\"1\" class=\"dataframe\">\n",
       "  <thead>\n",
       "    <tr style=\"text-align: right;\">\n",
       "      <th></th>\n",
       "      <th>offer_id</th>\n",
       "      <th>offer_name</th>\n",
       "      <th>profit</th>\n",
       "    </tr>\n",
       "  </thead>\n",
       "  <tbody>\n",
       "    <tr>\n",
       "      <th>1</th>\n",
       "      <td>102</td>\n",
       "      <td>Offer B</td>\n",
       "      <td>500.0</td>\n",
       "    </tr>\n",
       "    <tr>\n",
       "      <th>0</th>\n",
       "      <td>101</td>\n",
       "      <td>Offer A</td>\n",
       "      <td>434.5</td>\n",
       "    </tr>\n",
       "    <tr>\n",
       "      <th>2</th>\n",
       "      <td>103</td>\n",
       "      <td>Offer C</td>\n",
       "      <td>150.0</td>\n",
       "    </tr>\n",
       "  </tbody>\n",
       "</table>\n",
       "</div>"
      ],
      "text/plain": [
       "   offer_id offer_name  profit\n",
       "1       102    Offer B   500.0\n",
       "0       101    Offer A   434.5\n",
       "2       103    Offer C   150.0"
      ]
     },
     "execution_count": 7,
     "metadata": {},
     "output_type": "execute_result"
    }
   ],
   "source": [
    "# 7) Agrégations utiles\n",
    "\n",
    "def topn_profit_by(df: pd.DataFrame, by: str, n: int = 15) -> pd.DataFrame:\n",
    "    \"\"\"\n",
    "    by ∈ {\"offer\", \"affiliate\", \"advertiser\"}\n",
    "    Retourne le top N des profits agrégés par l'entité choisie.\n",
    "    \"\"\"\n",
    "    assert by in {\"offer\", \"affiliate\", \"advertiser\"}\n",
    "    name_col = f\"{by}_name\"\n",
    "    id_col   = f\"{by}_id\"\n",
    "    group = (\n",
    "        df.groupby([id_col, name_col], dropna=False)[\"profit\"]\n",
    "          .sum()\n",
    "          .reset_index()\n",
    "          .sort_values(\"profit\", ascending=False)\n",
    "          .head(n)\n",
    "    )\n",
    "    return group\n",
    "\n",
    "top_offers = topn_profit_by(df, \"offer\", n=15)\n",
    "top_affiliates = topn_profit_by(df, \"affiliate\", n=15)\n",
    "top_advertisers = topn_profit_by(df, \"advertiser\", n=15)\n",
    "\n",
    "top_offers"
   ]
  },
  {
   "cell_type": "markdown",
   "id": "7f51ca82",
   "metadata": {},
   "source": [
    "## 8-) Visualisation\n",
    "Utilisation de matplotlib (pas de seaborn). Chaque cellule génère un bar chart horizontal, l’enregistre en PNG et l’affiche."
   ]
  },
  {
   "cell_type": "code",
   "execution_count": 8,
   "id": "5302b6ca",
   "metadata": {},
   "outputs": [
    {
     "data": {
      "image/png": "[encoded data removed]",
      "text/plain": [
       "<Figure size 1000x600 with 1 Axes>"
      ]
     },
     "metadata": {},
     "output_type": "display_data"
    },
    {
     "data": {
      "text/plain": [
       "WindowsPath('out/profit_by_offer.png')"
      ]
     },
     "execution_count": 8,
     "metadata": {},
     "output_type": "execute_result"
    }
   ],
   "source": [
    "# 8a) Graphique — Profits par Offre\n",
    "plt.figure(figsize=(10, 6))\n",
    "tmp = top_offers.sort_values(\"profit\", ascending=True)\n",
    "plt.barh(tmp[\"offer_name\"].astype(str), tmp[\"profit\"])\n",
    "plt.title(\"Somme des profits par offre (Top 15)\")\n",
    "plt.xlabel(\"Profit\")\n",
    "plt.tight_layout()\n",
    "png_path_offers = Path(OUT_DIR) / \"profit_by_offer.png\"\n",
    "plt.savefig(png_path_offers)\n",
    "plt.show()\n",
    "png_path_offers"
   ]
  },
  {
   "cell_type": "markdown",
   "id": "ebd0d031",
   "metadata": {},
   "source": [
    "## 9-) Rapport Markdown\n",
    "Génère un README de résultats minimal dans le dossier out/ avec liens vers les PNG"
   ]
  },
  {
   "cell_type": "code",
   "execution_count": 9,
   "id": "ae1ff644",
   "metadata": {},
   "outputs": [
    {
     "data": {
      "text/plain": [
       "WindowsPath('out/REPORT.md')"
      ]
     },
     "execution_count": 9,
     "metadata": {},
     "output_type": "execute_result"
    }
   ],
   "source": [
    "# 9) Rapport Markdown\n",
    "\n",
    "report_md = f\"\"\"# Rapport Everflow — {FROM_DATE} → {TO_DATE}\n",
    "\n",
    "**Fuseau**: {EFLOW_TIMEZONE_ID} • **Devise**: {EFLOW_CURRENCY_ID}\n",
    "\n",
    "## Profits par Offre\n",
    "![profit_by_offer](profit_by_offer.png)\n",
    "\n",
    "## Profits par Affilié\n",
    "![profit_by_affiliate](profit_by_affiliate.png)\n",
    "\n",
    "## Profits par Advertiser\n",
    "![profit_by_advertiser](profit_by_advertiser.png)\n",
    "\n",
    "_Généré par le notebook “Everflow API Analytics — Portfolio”_\n",
    "\"\"\"\n",
    "\n",
    "Path(OUT_DIR, \"REPORT.md\").write_text(report_md, encoding=\"utf-8\")\n",
    "Path(OUT_DIR, \"REPORT.md\")"
   ]
  },
  {
   "cell_type": "markdown",
   "id": "089b776c",
   "metadata": {},
   "source": [
    "## 10-) Exécution “one-click”\n",
    "Fonction utilitaire pour rejouer l’ensemble en une ligne avec d’autres dates"
   ]
  },
  {
   "cell_type": "code",
   "execution_count": 10,
   "id": "b0db329c",
   "metadata": {},
   "outputs": [
    {
     "data": {
      "text/plain": [
       "{'rows': 3, 'out': 'C:\\\\Users\\\\ouldb\\\\Documents\\\\Everflow-API-Analytics\\\\out'}"
      ]
     },
     "execution_count": 10,
     "metadata": {},
     "output_type": "execute_result"
    }
   ],
   "source": [
    "# 10) Exécution \"one-click\"\n",
    "\n",
    "def run_pipeline(from_date: str, to_date: str, out_dir: str = \"out\", use_mock: bool = False):\n",
    "    Path(out_dir).mkdir(parents=True, exist_ok=True)\n",
    "    if use_mock:\n",
    "        _rows = MOCK_ROWS\n",
    "    else:\n",
    "        _rows = fetch_aggregated_table(\n",
    "            from_date=from_date,\n",
    "            to_date=to_date,\n",
    "            columns=[\"offer\", \"affiliate\"],\n",
    "            timezone_id=EFLOW_TIMEZONE_ID,\n",
    "            currency_id=EFLOW_CURRENCY_ID\n",
    "        )\n",
    "    _df = rows_to_df(_rows)\n",
    "    # Agrégations\n",
    "    _offers = topn_profit_by(_df, \"offer\")\n",
    "    _aff    = topn_profit_by(_df, \"affiliate\")\n",
    "    _adv    = topn_profit_by(_df, \"advertiser\")\n",
    "\n",
    "    # Graphiques (sauvegarde)\n",
    "    def save_barh(df, value_col, label_col, title, path):\n",
    "        plt.figure(figsize=(10,6))\n",
    "        d = df.sort_values(value_col, ascending=True)\n",
    "        plt.barh(d[label_col].astype(str), d[value_col])\n",
    "        plt.title(title)\n",
    "        plt.xlabel(value_col.capitalize())\n",
    "        plt.tight_layout()\n",
    "        plt.savefig(path)\n",
    "        plt.close()\n",
    "\n",
    "    save_barh(_offers, \"profit\", \"offer_name\", \"Somme des profits par offre (Top 15)\", Path(out_dir)/\"profit_by_offer.png\")\n",
    "    save_barh(_aff,    \"profit\", \"affiliate_name\", \"Somme des profits par affilié (Top 15)\", Path(out_dir)/\"profit_by_affiliate.png\")\n",
    "    save_barh(_adv,    \"profit\", \"advertiser_name\", \"Somme des profits par advertiser (Top 15)\", Path(out_dir)/\"profit_by_advertiser.png\")\n",
    "\n",
    "    # Rapport\n",
    "    rep = f\"\"\"# Rapport Everflow — {from_date} → {to_date}\n",
    "\n",
    "**Fuseau**: {EFLOW_TIMEZONE_ID} • **Devise**: {EFLOW_CURRENCY_ID}\n",
    "\n",
    "## Profits par Offre\n",
    "![profit_by_offer](profit_by_offer.png)\n",
    "\n",
    "## Profits par Affilié\n",
    "![profit_by_affiliate](profit_by_affiliate.png)\n",
    "\n",
    "## Profits par Advertiser\n",
    "![profit_by_advertiser](profit_by_advertiser.png)\n",
    "\"\"\"\n",
    "    Path(out_dir, \"REPORT.md\").write_text(rep, encoding=\"utf-8\")\n",
    "    return {\"rows\": len(_rows), \"out\": str(Path(out_dir).resolve())}\n",
    "\n",
    "# Exemple:\n",
    "run_pipeline(FROM_DATE, TO_DATE, OUT_DIR, use_mock=USE_MOCK)"
   ]
  },
  {
   "cell_type": "markdown",
   "id": "d96aa2d2",
   "metadata": {},
   "source": [
    "# 🏁 Conclusion et Résultats\n",
    "\n",
    "### 📈 Résumé de l’exécution\n",
    "Le notebook **Everflow API Analytics** a permis de :\n",
    "- récupérer des statistiques agrégées de l’API Everflow sur une période donnée\n",
    "- calculer les indicateurs de performance principaux : **revenu, payout, profit, conversions, clics**\n",
    "- générer automatiquement **trois graphiques clés** :\n",
    "  1. 📊 Profit par **offre (Offer)**\n",
    "  2. 🤝 Profit par **affilié (Affiliate)**\n",
    "  3. 🏢 Profit par **advertiser (Annonceur)**\n",
    "\n",
    "Ces visuels permettent d’identifier rapidement les acteurs les plus performants du réseau.\n",
    "\n",
    "### 🖼️ Visualisations générées\n",
    "Les graphiques et le rapport final ont été enregistrés dans le dossier `out/` :\n",
    "- `profit_by_offer.png`\n",
    "- `profit_by_affiliate.png`\n",
    "- `profit_by_advertiser.png`\n",
    "- `REPORT.md`\n",
    "\n",
    "Ci-dessous, un aperçu des résultats :\n",
    "\n",
    "![profit_by_offer](out/profit_by_offer.png)\n",
    "![profit_by_affiliate](out/profit_by_affiliate.png)\n",
    "![profit_by_advertiser](out/profit_by_advertiser.png)\n",
    "\n",
    "### 🧭 Ce que démontre ce projet\n",
    "✅ Maîtrise de l’intégration d’une **API REST analytique** (Everflow)  \n",
    "✅ Transformation de données brutes JSON en **indicateurs exploitables** avec Pandas  \n",
    "✅ Production de **visualisations automatiques** et d’un rapport réutilisable  \n",
    "✅ Capacité à **structurer un projet complet** (authentification, logique métier, visualisation, rapport)\n",
    "\n",
    "> 💬 *Ce projet illustre ma capacité à concevoir des pipelines de données simples mais robustes, capables de transformer des données API en insights visuels clairs et prêts à être partagés.*"
   ]
  }
 ],
 "metadata": {
  "kernelspec": {
   "display_name": "base",
   "language": "python",
   "name": "python3"
  },
  "language_info": {
   "codemirror_mode": {
    "name": "ipython",
    "version": 3
   },
   "file_extension": ".py",
   "mimetype": "text/x-python",
   "name": "python",
   "nbconvert_exporter": "python",
   "pygments_lexer": "ipython3",
   "version": "3.12.7"
  }
 },
 "nbformat": 4,
 "nbformat_minor": 5
}
